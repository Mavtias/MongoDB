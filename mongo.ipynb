{
 "cells": [
  {
   "cell_type": "code",
   "execution_count": 4,
   "metadata": {},
   "outputs": [],
   "source": [
    "import pymongo\n",
    "import json\n",
    "\n",
    "from pymongo.mongo_client import MongoClient\n",
    "from pprint import pprint"
   ]
  },
  {
   "cell_type": "code",
   "execution_count": 8,
   "metadata": {},
   "outputs": [
    {
     "name": "stdout",
     "output_type": "stream",
     "text": [
      "pinged your deployment. You successfully connected to MongoDB!\n"
     ]
    }
   ],
   "source": [
    "with open('config.json') as f:\n",
    "    config = json.load(f)\n",
    "uri = config.get(\"MONGO_URI\")\n",
    "client = MongoClient(uri)\n",
    "\n",
    "# Test Connection\n",
    "try:\n",
    "    client.admin.command('ping')\n",
    "    print(\"pinged your deployment. You successfully connected to MongoDB!\")\n",
    "except Exception as e:\n",
    "    print(e)\n",
    "\n",
    "\n",
    "#connecting to DB and collections\n",
    "\n",
    "db = client[\"Mav\"]\n",
    "sales = db[\"sales\"]\n"
   ]
  },
  {
   "cell_type": "markdown",
   "metadata": {},
   "source": [
    "<h4>Making Queries</h4>"
   ]
  },
  {
   "cell_type": "code",
   "execution_count": 9,
   "metadata": {},
   "outputs": [
    {
     "name": "stdout",
     "output_type": "stream",
     "text": [
      "{'_id': 1,\n",
      " 'card_type': 'jcb',\n",
      " 'country': 'china',\n",
      " 'email': 'fpayn0@irs.gov',\n",
      " 'first_name': 'frannie',\n",
      " 'gender': 'female',\n",
      " 'last_name': 'payn',\n",
      " 'payment_card': False,\n",
      " 'total_price': 8064.45,\n",
      " 'year': 2001}\n",
      "{'_id': 2,\n",
      " 'card_type': 'jcb',\n",
      " 'country': 'bosnia and herzegovina',\n",
      " 'email': 'hgreves1@patch.com',\n",
      " 'first_name': 'hatti',\n",
      " 'gender': 'female',\n",
      " 'last_name': 'greves',\n",
      " 'payment_card': True,\n",
      " 'total_price': 5003.15,\n",
      " 'year': 2019}\n",
      "{'_id': 3,\n",
      " 'card_type': 'visa-electron',\n",
      " 'country': 'china',\n",
      " 'email': 'rfeatherstonhaugh2@adobe.com',\n",
      " 'first_name': 'ronnica',\n",
      " 'gender': 'non-binary',\n",
      " 'last_name': 'featherstonhaugh',\n",
      " 'payment_card': True,\n",
      " 'total_price': 3264.26,\n",
      " 'year': 2020}\n",
      "{'_id': 4,\n",
      " 'card_type': 'jcb',\n",
      " 'country': 'philippines',\n",
      " 'email': 'cselly3@acquirethisname.com',\n",
      " 'first_name': 'carlota',\n",
      " 'gender': 'female',\n",
      " 'last_name': 'selly',\n",
      " 'payment_card': True,\n",
      " 'total_price': 8769.55,\n",
      " 'year': 2011}\n",
      "{'_id': 6,\n",
      " 'card_type': 'jcb',\n",
      " 'country': 'denmark',\n",
      " 'email': 'mkeir5@google.com.hk',\n",
      " 'first_name': 'mal',\n",
      " 'gender': 'male',\n",
      " 'last_name': 'keir',\n",
      " 'payment_card': True,\n",
      " 'total_price': 6314.79,\n",
      " 'year': 2005}\n"
     ]
    }
   ],
   "source": [
    "query = {\"total_price\":{\"$gt\":3000}}\n",
    "results = sales.find(query).limit(5)\n",
    "\n",
    "for doc in results:\n",
    "    pprint(doc)"
   ]
  },
  {
   "cell_type": "markdown",
   "metadata": {},
   "source": [
    "<H4> Creating a Pipeline"
   ]
  },
  {
   "cell_type": "code",
   "execution_count": 117,
   "metadata": {},
   "outputs": [],
   "source": [
    "pipeline = [\n",
    "    {\"$match\":\n",
    "        {\"year\":2020,\n",
    "        \"total_price\":{\"$gt\":2000}}\n",
    "    },\n",
    "    {\"$group\":\n",
    "        {\"_id\":\"$country\",\n",
    "         \"count\":{\"$sum\":1},\n",
    "         \"total\":{\"$sum\":\"$total_price\"}}\n",
    "    },\n",
    "    {\"$sort\":\n",
    "     {\"total\":-1}},\n",
    "\n",
    "    {\"$project\":\n",
    "        {\"_id\":1,\n",
    "         \"count\":1,\n",
    "         \"total\":1}\n",
    "     \n",
    "     \n",
    "    }\n",
    "]"
   ]
  },
  {
   "cell_type": "code",
   "execution_count": 118,
   "metadata": {},
   "outputs": [
    {
     "name": "stdout",
     "output_type": "stream",
     "text": [
      "{'_id': 'brazil', 'count': 6, 'total': 41247.3}\n",
      "{'_id': 'france', 'count': 3, 'total': 16118.67}\n",
      "{'_id': 'ukraine', 'count': 2, 'total': 12817.99}\n",
      "{'_id': 'czech republic', 'count': 2, 'total': 11795.05}\n",
      "{'_id': 'china', 'count': 3, 'total': 10356.93}\n",
      "{'_id': 'indonesia', 'count': 2, 'total': 10208.9}\n",
      "{'_id': 'philippines', 'count': 1, 'total': 9736.57}\n",
      "{'_id': 'bangladesh', 'count': 1, 'total': 9531.82}\n",
      "{'_id': 'north korea', 'count': 1, 'total': 9417.34}\n",
      "{'_id': 'united states', 'count': 1, 'total': 8897.35}\n",
      "{'_id': 'south africa', 'count': 1, 'total': 8824.51}\n",
      "{'_id': 'argentina', 'count': 1, 'total': 8604.47}\n",
      "{'_id': 'thailand', 'count': 1, 'total': 8279.65}\n",
      "{'_id': 'colombia', 'count': 2, 'total': 8218.95}\n",
      "{'_id': 'dominican republic', 'count': 1, 'total': 8206.39}\n",
      "{'_id': 'armenia', 'count': 1, 'total': 8200.13}\n",
      "{'_id': 'nigeria', 'count': 1, 'total': 7863.25}\n",
      "{'_id': 'azerbaijan', 'count': 1, 'total': 6999.84}\n",
      "{'_id': 'chile', 'count': 1, 'total': 6902.89}\n",
      "{'_id': 'jordan', 'count': 1, 'total': 5598.25}\n",
      "{'_id': 'peru', 'count': 1, 'total': 4298.73}\n",
      "{'_id': 'sweden', 'count': 1, 'total': 3673.15}\n",
      "{'_id': 'serbia', 'count': 1, 'total': 2899.72}\n"
     ]
    }
   ],
   "source": [
    "results = sales.aggregate(pipeline)\n",
    "for result in results:\n",
    "    pprint(result)"
   ]
  },
  {
   "cell_type": "code",
   "execution_count": 12,
   "metadata": {},
   "outputs": [],
   "source": [
    "pipeline = [\n",
    "    {\"$match\":\n",
    "        {\"year\":2010,\n",
    "        \"total_price\":{\"$lte\":6000}}\n",
    "    },\n",
    "    {\"$group\":\n",
    "        {\"_id\":\"$gender\",\n",
    "         \"count\":{\"$sum\":1},\n",
    "         \"total\":{\"$sum\":\"$total_price\"}}\n",
    "    },\n",
    "    {\"$sort\":\n",
    "     {\"total\":-1}},\n",
    "\n",
    "    {\"$project\":\n",
    "        {\"_id\":1,\n",
    "         \"count\":1,\n",
    "         \"total\":1}\n",
    "     \n",
    "     \n",
    "    }\n",
    "]"
   ]
  },
  {
   "cell_type": "code",
   "execution_count": 13,
   "metadata": {},
   "outputs": [
    {
     "name": "stdout",
     "output_type": "stream",
     "text": [
      "{'_id': 'female', 'count': 13, 'total': 48567.15}\n",
      "{'_id': 'male', 'count': 9, 'total': 43526.12}\n",
      "{'_id': 'non-binary', 'count': 1, 'total': 5959.07}\n",
      "{'_id': 'agender', 'count': 1, 'total': 4595.73}\n"
     ]
    }
   ],
   "source": [
    "results = sales.aggregate(pipeline)\n",
    "for result in results:\n",
    "    pprint(result)"
   ]
  }
 ],
 "metadata": {
  "kernelspec": {
   "display_name": ".venv",
   "language": "python",
   "name": "python3"
  },
  "language_info": {
   "codemirror_mode": {
    "name": "ipython",
    "version": 3
   },
   "file_extension": ".py",
   "mimetype": "text/x-python",
   "name": "python",
   "nbconvert_exporter": "python",
   "pygments_lexer": "ipython3",
   "version": "3.11.5"
  }
 },
 "nbformat": 4,
 "nbformat_minor": 2
}
