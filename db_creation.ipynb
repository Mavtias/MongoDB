{
 "cells": [
  {
   "cell_type": "code",
   "execution_count": null,
   "metadata": {},
   "outputs": [],
   "source": [
    "import pymongo\n",
    "import pandas as pd\n",
    "import json\n",
    "\n",
    "\n",
    "\n",
    "from pymongo.mongo_client import MongoClient\n",
    "from pprint import pprint"
   ]
  },
  {
   "cell_type": "code",
   "execution_count": null,
   "metadata": {},
   "outputs": [],
   "source": [
    "with open('config.json') as f:\n",
    "    config = json.load(f)\n",
    "uri = config.get(\"MONGO_URI\")\n",
    "client = MongoClient(uri)\n",
    "\n",
    "# Test Connection\n",
    "try:\n",
    "    client.admin.command('ping')\n",
    "    print(\"pinged your deployment. You successfully connected to MongoDB!\")\n",
    "except Exception as e:\n",
    "    print(e)\n",
    "\n",
    "\n",
    "#Creating a DB\n",
    "\n",
    "db = client[\"Mav\"]\n",
    "sales = db[\"sales\"]\n"
   ]
  },
  {
   "cell_type": "code",
   "execution_count": null,
   "metadata": {},
   "outputs": [],
   "source": [
    "# Getting random generated info sales\n",
    "df = pd.read_csv('random.csv')\n",
    "\n",
    "# Transforming data types and lowering case\n",
    "df['total_price'] = df.total_price.str.replace('€','')\n",
    "df['total_price'] = df.total_price.str.replace(',','.')\n",
    "df['total_price'] = df.total_price.astype(float)\n",
    "\n",
    "df = df.map(lambda x: x.lower() if isinstance(x,str) else x)\n",
    "\n",
    "# Transforming to a dict for easy insertion to the collection in MongoDB \n",
    "datos_dict = df.to_dict(orient='records')\n",
    "\n",
    "# Inserting the dict to the mongoDB\n",
    "for doc in datos_dict:\n",
    "    sales.insert_one(doc)"
   ]
  },
  {
   "cell_type": "code",
   "execution_count": null,
   "metadata": {},
   "outputs": [],
   "source": [
    "#Adding the document \"Year\"\n",
    "import random\n",
    "\n",
    "year_range = list(range(2000,2024))\n",
    "\n",
    "for document in sales.find():\n",
    "    random_year = random.choice(year_range)\n",
    "    sales.update_one({\"_id\":document[\"_id\"]}, {\"$set\":{\"year\":random_year}})\n",
    "\n",
    "\n",
    "#Checking if the records got inserted\n",
    "\n",
    "pprint(sales.find_one())\n",
    "\n",
    "\n",
    "\n",
    "#Delete the year field\n",
    "# sales.update_many({},{\"$unset\":{\"year\":1}},True)"
   ]
  }
 ],
 "metadata": {
  "kernelspec": {
   "display_name": ".venv",
   "language": "python",
   "name": "python3"
  },
  "language_info": {
   "codemirror_mode": {
    "name": "ipython",
    "version": 3
   },
   "file_extension": ".py",
   "mimetype": "text/x-python",
   "name": "python",
   "nbconvert_exporter": "python",
   "pygments_lexer": "ipython3",
   "version": "3.11.5"
  }
 },
 "nbformat": 4,
 "nbformat_minor": 2
}
